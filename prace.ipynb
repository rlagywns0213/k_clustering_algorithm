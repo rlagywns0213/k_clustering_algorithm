{
 "cells": [
  {
   "cell_type": "code",
   "execution_count": 7,
   "metadata": {},
   "outputs": [],
   "source": [
    "\n",
    "import numpy as np\n",
    "import random\n",
    "def load_data(data_num, k,dt):\n",
    "    # Load data\n",
    "    x = []  # data\n",
    "\n",
    "    np.random.seed(0)\n",
    "    for i in range(k):\n",
    "        x.extend(np.random.normal(loc=[i*dt,i*dt], scale=0.5, size=(data_num, 2)).tolist()) # *2.5 데이터 거리 구분 위함 \n",
    "        if i == 0:\n",
    "            real_answer = [0] * data_num\n",
    "        else:\n",
    "            real_answer.extend([i]*data_num)\n",
    "    \n",
    "    x = np.array(x)\n",
    "    #sns.scatterplot(x=x[:,0], y=x[:,1]) #기존 그래프 그리기\n",
    "\n",
    "    return x, real_answer\n",
    "\n",
    "x, real_answer = load_data(1000, 3,2.5)"
   ]
  },
  {
   "cell_type": "code",
   "execution_count": 9,
   "metadata": {},
   "outputs": [],
   "source": [
    "import math\n",
    "def cal_distance(x, y): \n",
    "    '''\n",
    "    유클리디안 거리 계산 함수\n",
    "    '''\n",
    "    sum = 0\n",
    "    for a, b in zip(x,y):\n",
    "        sum += (a-b)**2\n",
    "    return math.sqrt(sum)"
   ]
  },
  {
   "cell_type": "code",
   "execution_count": 83,
   "metadata": {},
   "outputs": [
    {
     "data": {
      "text/plain": [
       "array([[ 3.01470446,  2.5510299 ],\n",
       "       [-1.4011014 , -0.59421221],\n",
       "       [ 5.6960834 ,  6.41288525]])"
      ]
     },
     "execution_count": 83,
     "metadata": {},
     "output_type": "execute_result"
    }
   ],
   "source": [
    "def center_initialize(x,k):\n",
    "    M = []\n",
    "    indices = []\n",
    "\n",
    "    index = np.random.choice(len(x), size=1, replace=False)\n",
    "    indices.append(int(index))\n",
    "    M.append(x[index])\n",
    "    while len(indices) < k:\n",
    "        dist_list=[]\n",
    "        for i in x:\n",
    "            if i in x[indices]:\n",
    "                dist_list.append(0) #index 채워주기용\n",
    "            else:\n",
    "                dist_list.append(cal_distance(i, x[indices].mean(axis=0))) # centroid 간의 중심점\n",
    "        max_index = dist_list.index(max(dist_list))\n",
    "        indices.append(max_index)\n",
    "    centers = x[indices]\n",
    "    return centers\n",
    "\n",
    "new_x = center_initialize(x,3)\n",
    "new_x"
   ]
  },
  {
   "cell_type": "code",
   "execution_count": 67,
   "metadata": {},
   "outputs": [],
   "source": []
  },
  {
   "cell_type": "code",
   "execution_count": 84,
   "metadata": {},
   "outputs": [],
   "source": [
    "def cal_mid_centroid(new_x, k):\n",
    "    x2_x = new_x[1][0]\n",
    "    x2_y = new_x[1][1]\n",
    "    x3_x = new_x[2][0]\n",
    "    x3_y = new_x[2][1]\n",
    "    mid_centroid_x = []\n",
    "    mid_centroid_y = []\n",
    "    if (x2_x>x3_x) == True:\n",
    "        for i in range(k):\n",
    "            new_middle = 0\n",
    "            ratio = (x2_x - x3_x) / (k-1)\n",
    "            new_middle += (x3_x + ratio * i)\n",
    "            mid_centroid_x.append(new_middle)\n",
    "    if (x2_x>x3_x) == False:\n",
    "        for i in range(k):\n",
    "            new_middle = 0\n",
    "            ratio = (x3_x - x2_x) / (k-1)\n",
    "            new_middle += (x2_x + ratio * i)\n",
    "            mid_centroid_x.append(new_middle)\n",
    "    if (x2_y>x3_y) == True:\n",
    "        for i in range(k):\n",
    "            new_middle = 0\n",
    "            ratio = (x2_y - x3_y) / (k-1)\n",
    "            new_middle += (x3_y + ratio * i)\n",
    "            mid_centroid_y.append(new_middle)\n",
    "    if (x2_y>x3_y) == False:\n",
    "        for i in range(k):\n",
    "            new_middle = 0\n",
    "            ratio = (x3_y - x2_y) / (k-1)\n",
    "            new_middle += (x2_y + ratio * i)\n",
    "            mid_centroid_y.append(new_middle)\n",
    "\n",
    "    return np.c_[np.array(mid_centroid_x), np.array(mid_centroid_y)]"
   ]
  },
  {
   "cell_type": "code",
   "execution_count": 82,
   "metadata": {},
   "outputs": [
    {
     "data": {
      "text/plain": [
       "array([2.5020875 , 1.75825422])"
      ]
     },
     "execution_count": 82,
     "metadata": {},
     "output_type": "execute_result"
    }
   ],
   "source": [
    "center_initialize(x,2)[0]"
   ]
  },
  {
   "cell_type": "code",
   "execution_count": 85,
   "metadata": {},
   "outputs": [
    {
     "data": {
      "text/plain": [
       "array([[-1.4011014 , -0.59421221],\n",
       "       [ 0.96462687,  1.74148694],\n",
       "       [ 3.33035513,  4.0771861 ],\n",
       "       [ 5.6960834 ,  6.41288525]])"
      ]
     },
     "execution_count": 85,
     "metadata": {},
     "output_type": "execute_result"
    }
   ],
   "source": [
    "cal_mid_centroid(center_initialize(x,3),4)"
   ]
  },
  {
   "cell_type": "code",
   "execution_count": 73,
   "metadata": {},
   "outputs": [
    {
     "data": {
      "text/plain": [
       "array([[-1.4011014 , -0.59421221],\n",
       "       [ 0.96462687,  1.74148694],\n",
       "       [ 3.33035513,  4.0771861 ],\n",
       "       [ 5.6960834 ,  6.41288525]])"
      ]
     },
     "execution_count": 73,
     "metadata": {},
     "output_type": "execute_result"
    }
   ],
   "source": [
    "cal_mid_centroid(new_x, 4)"
   ]
  },
  {
   "cell_type": "code",
   "execution_count": 36,
   "metadata": {},
   "outputs": [
    {
     "data": {
      "text/plain": [
       "(-1.4011013991958565, 5.6960834000510285)"
      ]
     },
     "execution_count": 36,
     "metadata": {},
     "output_type": "execute_result"
    }
   ],
   "source": [
    "x3_x, x2_x"
   ]
  },
  {
   "cell_type": "code",
   "execution_count": 25,
   "metadata": {},
   "outputs": [
    {
     "data": {
      "text/plain": [
       "(array([5.6960834 , 6.41288525]), array([-1.4011014 , -0.59421221]))"
      ]
     },
     "execution_count": 25,
     "metadata": {},
     "output_type": "execute_result"
    }
   ],
   "source": [
    "new_x[1], new_x[2]"
   ]
  },
  {
   "cell_type": "code",
   "execution_count": 18,
   "metadata": {},
   "outputs": [
    {
     "data": {
      "text/plain": [
       "array([2.147491  , 2.90933652])"
      ]
     },
     "execution_count": 18,
     "metadata": {},
     "output_type": "execute_result"
    }
   ],
   "source": [
    "(new_x[1] + new_x[2]) / 2"
   ]
  },
  {
   "cell_type": "code",
   "execution_count": 5,
   "metadata": {},
   "outputs": [
    {
     "data": {
      "text/plain": [
       "<matplotlib.axes._subplots.AxesSubplot at 0x27f8e492d00>"
      ]
     },
     "execution_count": 5,
     "metadata": {},
     "output_type": "execute_result"
    },
    {
     "data": {
      "image/png": "[encoded data removed]",
      "text/plain": [
       "<Figure size 432x288 with 1 Axes>"
      ]
     },
     "metadata": {
      "needs_background": "light"
     },
     "output_type": "display_data"
    }
   ],
   "source": [
    "import seaborn as sns\n",
    "centers = x[np.random.choice(len(x), size=4, replace=False)]\n",
    "sns.scatterplot(x=x[:,0], y=x[:,1]) #기존 그래프 그리기\n",
    "sns.scatterplot(x=centers[:,0], y=centers[:,1]) #기존 그래프 그리기"
   ]
  },
  {
   "cell_type": "code",
   "execution_count": 86,
   "metadata": {},
   "outputs": [
    {
     "data": {
      "text/plain": [
       "<matplotlib.axes._subplots.AxesSubplot at 0x27f8f876b50>"
      ]
     },
     "execution_count": 86,
     "metadata": {},
     "output_type": "execute_result"
    },
    {
     "data": {
      "image/png": "[encoded data removed]",
      "text/plain": [
       "<Figure size 432x288 with 1 Axes>"
      ]
     },
     "metadata": {
      "needs_background": "light"
     },
     "output_type": "display_data"
    }
   ],
   "source": [
    "sns.scatterplot(x=x[:,0], y=x[:,1]) #기존 그래프 그리기\n",
    "new_x =cal_mid_centroid(center_initialize(x,3),4)\n",
    "sns.scatterplot(x=new_x[:,0], y=new_x[:,1]) #기존 그래프 그리기"
   ]
  },
  {
   "cell_type": "code",
   "execution_count": 150,
   "metadata": {},
   "outputs": [
    {
     "data": {
      "text/plain": [
       "167"
      ]
     },
     "execution_count": 150,
     "metadata": {},
     "output_type": "execute_result"
    }
   ],
   "source": [
    "dist_list=[]\n",
    "first_centrioid = x[0]\n",
    "for i in x:\n",
    "    dist_list.append(cal_distance(i, x[0]))\n",
    "\n",
    "dist_list.index(max(dist_list))"
   ]
  },
  {
   "cell_type": "code",
   "execution_count": 159,
   "metadata": {},
   "outputs": [
    {
     "name": "stdout",
     "output_type": "stream",
     "text": [
      "[array([[1.08161797, 0.66826397]]), array([[1.08161797, 0.66826397]])]\n"
     ]
    },
    {
     "data": {
      "text/plain": [
       "array([[1.08161797, 0.66826397]])"
      ]
     },
     "execution_count": 159,
     "metadata": {},
     "output_type": "execute_result"
    }
   ],
   "source": [
    "# 랜덤으로 1개 출력\n",
    "M = []\n",
    "indices = []\n",
    "\n",
    "index = np.random.choice(len(x), size=1, replace=False)\n",
    "indices.append(index)\n",
    "M.append(x[index])\n",
    "\n",
    "M.append(x[index])\n",
    "np.mean(M,axis=0)"
   ]
  },
  {
   "cell_type": "code",
   "execution_count": 181,
   "metadata": {},
   "outputs": [
    {
     "name": "stdout",
     "output_type": "stream",
     "text": [
      "0.882026172983832 -0.0308132010478237\n",
      "0.20007860418361165 -0.05365263814558734\n"
     ]
    }
   ],
   "source": [
    "import math\n",
    "def cal_distance(x, y): \n",
    "    '''\n",
    "    유클리디안 거리 계산 함수\n",
    "    '''\n",
    "    sum = 0\n",
    "    for a, b in zip(x,y):\n",
    "        sum += (a-b)**2\n",
    "    return math.sqrt(sum)\n",
    "\n",
    "for a, b in zip(i, np.mean(M,axis=0)[0]):\n",
    "    print(a,b)"
   ]
  },
  {
   "cell_type": "code",
   "execution_count": 180,
   "metadata": {},
   "outputs": [
    {
     "data": {
      "text/plain": [
       "array([-0.0308132 , -0.05365264])"
      ]
     },
     "execution_count": 180,
     "metadata": {},
     "output_type": "execute_result"
    }
   ],
   "source": [
    "np.mean(M,axis=0)[0]"
   ]
  },
  {
   "cell_type": "code",
   "execution_count": 198,
   "metadata": {},
   "outputs": [
    {
     "data": {
      "text/plain": [
       "array([[ 0.93377948,  0.45302233],\n",
       "       [ 0.26053244, -0.28789398],\n",
       "       [ 0.01850286,  0.3839512 ]])"
      ]
     },
     "execution_count": 198,
     "metadata": {},
     "output_type": "execute_result"
    }
   ],
   "source": [
    "\n",
    "centers = x[np.random.choice(len(x), size=3, replace=False)] #center: data point 중 무작위로 출력\n",
    "\n",
    "centers"
   ]
  },
  {
   "cell_type": "code",
   "execution_count": 199,
   "metadata": {},
   "outputs": [
    {
     "data": {
      "text/plain": [
       "[array([[-0.06644029, -0.14889544]]),\n",
       " array([-1.01534223,  1.03224643]),\n",
       " array([ 0.47152304, -1.36983858])]"
      ]
     },
     "execution_count": 199,
     "metadata": {},
     "output_type": "execute_result"
    }
   ],
   "source": [
    "M"
   ]
  },
  {
   "cell_type": "code",
   "execution_count": 209,
   "metadata": {},
   "outputs": [
    {
     "name": "stderr",
     "output_type": "stream",
     "text": [
      "<ipython-input-209-a9c39fcc26e5>:1: FutureWarning: Using a non-tuple sequence for multidimensional indexing is deprecated; use `arr[tuple(seq)]` instead of `arr[seq]`. In the future this will be interpreted as an array index, `arr[np.array(seq)]`, which will result either in an error or a different result.\n",
      "  x[indices]\n"
     ]
    },
    {
     "data": {
      "text/plain": [
       "array([[-0.31871851, -0.19863591]])"
      ]
     },
     "execution_count": 209,
     "metadata": {},
     "output_type": "execute_result"
    }
   ],
   "source": [
    "x[indices]"
   ]
  },
  {
   "cell_type": "code",
   "execution_count": 220,
   "metadata": {},
   "outputs": [
    {
     "data": {
      "text/plain": [
       "118"
      ]
     },
     "execution_count": 220,
     "metadata": {},
     "output_type": "execute_result"
    }
   ],
   "source": [
    "int(index)"
   ]
  },
  {
   "cell_type": "code",
   "execution_count": 259,
   "metadata": {},
   "outputs": [
    {
     "data": {
      "text/plain": [
       "array([[-1.14431002,  0.12574221],\n",
       "       [ 1.34811203, -0.03696233],\n",
       "       [-0.1961945 , -1.52307153]])"
      ]
     },
     "execution_count": 259,
     "metadata": {},
     "output_type": "execute_result"
    }
   ],
   "source": [
    "# 랜덤으로 1개 출력\n",
    "M = []\n",
    "indices = []\n",
    "\n",
    "index = np.random.choice(len(x), size=1, replace=False)\n",
    "indices.append(int(index))\n",
    "M.append(x[index])\n",
    "while len(indices) < 3:\n",
    "    dist_list=[]\n",
    "    for i in x:\n",
    "        dist_list.append(cal_distance(i, x[indices].mean(axis=0))) # centroid 간의 중심점\n",
    "    max_index = dist_list.index(max(dist_list))\n",
    "    indices.append(max_index)\n",
    "x[indices]"
   ]
  },
  {
   "cell_type": "code",
   "execution_count": 46,
   "metadata": {},
   "outputs": [
    {
     "data": {
      "text/html": [
       "<div>\n",
       "<style scoped>\n",
       "    .dataframe tbody tr th:only-of-type {\n",
       "        vertical-align: middle;\n",
       "    }\n",
       "\n",
       "    .dataframe tbody tr th {\n",
       "        vertical-align: top;\n",
       "    }\n",
       "\n",
       "    .dataframe thead th {\n",
       "        text-align: right;\n",
       "    }\n",
       "</style>\n",
       "<table border=\"1\" class=\"dataframe\">\n",
       "  <thead>\n",
       "    <tr style=\"text-align: right;\">\n",
       "      <th></th>\n",
       "      <th>Height</th>\n",
       "      <th>Weight</th>\n",
       "    </tr>\n",
       "  </thead>\n",
       "  <tbody>\n",
       "    <tr>\n",
       "      <th>0</th>\n",
       "      <td>0.882026</td>\n",
       "      <td>0.200079</td>\n",
       "    </tr>\n",
       "    <tr>\n",
       "      <th>1</th>\n",
       "      <td>0.489369</td>\n",
       "      <td>1.120447</td>\n",
       "    </tr>\n",
       "    <tr>\n",
       "      <th>2</th>\n",
       "      <td>0.933779</td>\n",
       "      <td>-0.488639</td>\n",
       "    </tr>\n",
       "    <tr>\n",
       "      <th>3</th>\n",
       "      <td>0.475044</td>\n",
       "      <td>-0.075679</td>\n",
       "    </tr>\n",
       "    <tr>\n",
       "      <th>4</th>\n",
       "      <td>-0.051609</td>\n",
       "      <td>0.205299</td>\n",
       "    </tr>\n",
       "    <tr>\n",
       "      <th>...</th>\n",
       "      <td>...</td>\n",
       "      <td>...</td>\n",
       "    </tr>\n",
       "    <tr>\n",
       "      <th>295</th>\n",
       "      <td>0.271656</td>\n",
       "      <td>0.219521</td>\n",
       "    </tr>\n",
       "    <tr>\n",
       "      <th>296</th>\n",
       "      <td>-0.109771</td>\n",
       "      <td>-0.542018</td>\n",
       "    </tr>\n",
       "    <tr>\n",
       "      <th>297</th>\n",
       "      <td>0.175890</td>\n",
       "      <td>0.189618</td>\n",
       "    </tr>\n",
       "    <tr>\n",
       "      <th>298</th>\n",
       "      <td>-0.235016</td>\n",
       "      <td>-0.108366</td>\n",
       "    </tr>\n",
       "    <tr>\n",
       "      <th>299</th>\n",
       "      <td>-0.465078</td>\n",
       "      <td>-0.089295</td>\n",
       "    </tr>\n",
       "  </tbody>\n",
       "</table>\n",
       "<p>300 rows × 2 columns</p>\n",
       "</div>"
      ],
      "text/plain": [
       "       Height    Weight\n",
       "0    0.882026  0.200079\n",
       "1    0.489369  1.120447\n",
       "2    0.933779 -0.488639\n",
       "3    0.475044 -0.075679\n",
       "4   -0.051609  0.205299\n",
       "..        ...       ...\n",
       "295  0.271656  0.219521\n",
       "296 -0.109771 -0.542018\n",
       "297  0.175890  0.189618\n",
       "298 -0.235016 -0.108366\n",
       "299 -0.465078 -0.089295\n",
       "\n",
       "[300 rows x 2 columns]"
      ]
     },
     "execution_count": 46,
     "metadata": {},
     "output_type": "execute_result"
    }
   ],
   "source": [
    "import pandas as pd\n",
    "X = pandas.DataFrame(x,columns=['Height','Weight'])\n",
    "X"
   ]
  },
  {
   "cell_type": "code",
   "execution_count": 102,
   "metadata": {},
   "outputs": [
    {
     "name": "stdout",
     "output_type": "stream",
     "text": [
      "26 Height   -0.255403\n",
      "Weight   -0.590316\n",
      "Name: 26, dtype: float64\n"
     ]
    }
   ],
   "source": [
    "centroids = X.sample()\n",
    "for index, row in centroids.iterrows():\n",
    "    print(index, row)"
   ]
  },
  {
   "cell_type": "code",
   "execution_count": 105,
   "metadata": {},
   "outputs": [],
   "source": [
    "X1 = pd.DataFrame(X, columns=['Height','Weight'])"
   ]
  },
  {
   "cell_type": "code",
   "execution_count": 139,
   "metadata": {},
   "outputs": [
    {
     "name": "stdout",
     "output_type": "stream",
     "text": [
      "26\n"
     ]
    },
    {
     "data": {
      "text/html": [
       "<div>\n",
       "<style scoped>\n",
       "    .dataframe tbody tr th:only-of-type {\n",
       "        vertical-align: middle;\n",
       "    }\n",
       "\n",
       "    .dataframe tbody tr th {\n",
       "        vertical-align: top;\n",
       "    }\n",
       "\n",
       "    .dataframe thead th {\n",
       "        text-align: right;\n",
       "    }\n",
       "</style>\n",
       "<table border=\"1\" class=\"dataframe\">\n",
       "  <thead>\n",
       "    <tr style=\"text-align: right;\">\n",
       "      <th></th>\n",
       "      <th>Height</th>\n",
       "      <th>Weight</th>\n",
       "      <th>0</th>\n",
       "      <th>0</th>\n",
       "      <th>0</th>\n",
       "      <th>0</th>\n",
       "      <th>0</th>\n",
       "      <th>0</th>\n",
       "      <th>0</th>\n",
       "      <th>0</th>\n",
       "    </tr>\n",
       "  </thead>\n",
       "  <tbody>\n",
       "    <tr>\n",
       "      <th>0</th>\n",
       "      <td>0.882026</td>\n",
       "      <td>0.200079</td>\n",
       "      <td>1.385088</td>\n",
       "      <td>1.385088</td>\n",
       "      <td>1.385088</td>\n",
       "      <td>1.385088</td>\n",
       "      <td>1.385088</td>\n",
       "      <td>1.385088</td>\n",
       "      <td>1.385088</td>\n",
       "      <td>1.385088</td>\n",
       "    </tr>\n",
       "    <tr>\n",
       "      <th>1</th>\n",
       "      <td>0.489369</td>\n",
       "      <td>1.120447</td>\n",
       "      <td>1.865849</td>\n",
       "      <td>1.865849</td>\n",
       "      <td>1.865849</td>\n",
       "      <td>1.865849</td>\n",
       "      <td>1.865849</td>\n",
       "      <td>1.865849</td>\n",
       "      <td>1.865849</td>\n",
       "      <td>1.865849</td>\n",
       "    </tr>\n",
       "    <tr>\n",
       "      <th>2</th>\n",
       "      <td>0.933779</td>\n",
       "      <td>-0.488639</td>\n",
       "      <td>1.193520</td>\n",
       "      <td>1.193520</td>\n",
       "      <td>1.193520</td>\n",
       "      <td>1.193520</td>\n",
       "      <td>1.193520</td>\n",
       "      <td>1.193520</td>\n",
       "      <td>1.193520</td>\n",
       "      <td>1.193520</td>\n",
       "    </tr>\n",
       "    <tr>\n",
       "      <th>3</th>\n",
       "      <td>0.475044</td>\n",
       "      <td>-0.075679</td>\n",
       "      <td>0.893535</td>\n",
       "      <td>0.893535</td>\n",
       "      <td>0.893535</td>\n",
       "      <td>0.893535</td>\n",
       "      <td>0.893535</td>\n",
       "      <td>0.893535</td>\n",
       "      <td>0.893535</td>\n",
       "      <td>0.893535</td>\n",
       "    </tr>\n",
       "    <tr>\n",
       "      <th>4</th>\n",
       "      <td>-0.051609</td>\n",
       "      <td>0.205299</td>\n",
       "      <td>0.821301</td>\n",
       "      <td>0.821301</td>\n",
       "      <td>0.821301</td>\n",
       "      <td>0.821301</td>\n",
       "      <td>0.821301</td>\n",
       "      <td>0.821301</td>\n",
       "      <td>0.821301</td>\n",
       "      <td>0.821301</td>\n",
       "    </tr>\n",
       "    <tr>\n",
       "      <th>...</th>\n",
       "      <td>...</td>\n",
       "      <td>...</td>\n",
       "      <td>...</td>\n",
       "      <td>...</td>\n",
       "      <td>...</td>\n",
       "      <td>...</td>\n",
       "      <td>...</td>\n",
       "      <td>...</td>\n",
       "      <td>...</td>\n",
       "      <td>...</td>\n",
       "    </tr>\n",
       "    <tr>\n",
       "      <th>295</th>\n",
       "      <td>0.271656</td>\n",
       "      <td>0.219521</td>\n",
       "      <td>0.966244</td>\n",
       "      <td>0.966244</td>\n",
       "      <td>0.966244</td>\n",
       "      <td>0.966244</td>\n",
       "      <td>0.966244</td>\n",
       "      <td>0.966244</td>\n",
       "      <td>0.966244</td>\n",
       "      <td>0.966244</td>\n",
       "    </tr>\n",
       "    <tr>\n",
       "      <th>296</th>\n",
       "      <td>-0.109771</td>\n",
       "      <td>-0.542018</td>\n",
       "      <td>0.153432</td>\n",
       "      <td>0.153432</td>\n",
       "      <td>0.153432</td>\n",
       "      <td>0.153432</td>\n",
       "      <td>0.153432</td>\n",
       "      <td>0.153432</td>\n",
       "      <td>0.153432</td>\n",
       "      <td>0.153432</td>\n",
       "    </tr>\n",
       "    <tr>\n",
       "      <th>297</th>\n",
       "      <td>0.175890</td>\n",
       "      <td>0.189618</td>\n",
       "      <td>0.891241</td>\n",
       "      <td>0.891241</td>\n",
       "      <td>0.891241</td>\n",
       "      <td>0.891241</td>\n",
       "      <td>0.891241</td>\n",
       "      <td>0.891241</td>\n",
       "      <td>0.891241</td>\n",
       "      <td>0.891241</td>\n",
       "    </tr>\n",
       "    <tr>\n",
       "      <th>298</th>\n",
       "      <td>-0.235016</td>\n",
       "      <td>-0.108366</td>\n",
       "      <td>0.482381</td>\n",
       "      <td>0.482381</td>\n",
       "      <td>0.482381</td>\n",
       "      <td>0.482381</td>\n",
       "      <td>0.482381</td>\n",
       "      <td>0.482381</td>\n",
       "      <td>0.482381</td>\n",
       "      <td>0.482381</td>\n",
       "    </tr>\n",
       "    <tr>\n",
       "      <th>299</th>\n",
       "      <td>-0.465078</td>\n",
       "      <td>-0.089295</td>\n",
       "      <td>0.543127</td>\n",
       "      <td>0.543127</td>\n",
       "      <td>0.543127</td>\n",
       "      <td>0.543127</td>\n",
       "      <td>0.543127</td>\n",
       "      <td>0.543127</td>\n",
       "      <td>0.543127</td>\n",
       "      <td>0.543127</td>\n",
       "    </tr>\n",
       "  </tbody>\n",
       "</table>\n",
       "<p>300 rows × 10 columns</p>\n",
       "</div>"
      ],
      "text/plain": [
       "       Height    Weight         0  ...         0         0         0\n",
       "0    0.882026  0.200079  1.385088  ...  1.385088  1.385088  1.385088\n",
       "1    0.489369  1.120447  1.865849  ...  1.865849  1.865849  1.865849\n",
       "2    0.933779 -0.488639  1.193520  ...  1.193520  1.193520  1.193520\n",
       "3    0.475044 -0.075679  0.893535  ...  0.893535  0.893535  0.893535\n",
       "4   -0.051609  0.205299  0.821301  ...  0.821301  0.821301  0.821301\n",
       "..        ...       ...       ...  ...       ...       ...       ...\n",
       "295  0.271656  0.219521  0.966244  ...  0.966244  0.966244  0.966244\n",
       "296 -0.109771 -0.542018  0.153432  ...  0.153432  0.153432  0.153432\n",
       "297  0.175890  0.189618  0.891241  ...  0.891241  0.891241  0.891241\n",
       "298 -0.235016 -0.108366  0.482381  ...  0.482381  0.482381  0.482381\n",
       "299 -0.465078 -0.089295  0.543127  ...  0.543127  0.543127  0.543127\n",
       "\n",
       "[300 rows x 10 columns]"
      ]
     },
     "execution_count": 139,
     "metadata": {},
     "output_type": "execute_result"
    }
   ],
   "source": [
    "max_dist = [0,0]\n",
    "for index, row in centroids.iterrows():\n",
    "            print(index)\n",
    "            #calculate distance of every centroid with every other data point \n",
    "            d = np.sqrt((X1[\"Height\"] - row[\"Height\"])**2 +(X1[\"Weight\"] - row[\"Weight\"])**2)\n",
    "            #check which centroid has a max distance with another point\n",
    "            if max(d) > max(max_dist):\n",
    "                max_dist = d\n",
    "\n",
    "#X1 = pd.concat([X1, max_dist], axis = 1)\n",
    "idx = X1.iloc[:,i+1].idxmax()\n",
    "max_coor = pd.DataFrame(X1.iloc[idx][[\"Height\", \"Weight\"]]).T\n",
    "X1"
   ]
  },
  {
   "cell_type": "code",
   "execution_count": 140,
   "metadata": {},
   "outputs": [
    {
     "data": {
      "text/plain": [
       "0.20007860418361165"
      ]
     },
     "execution_count": 140,
     "metadata": {},
     "output_type": "execute_result"
    }
   ],
   "source": [
    "X1.iloc[0,1]"
   ]
  },
  {
   "cell_type": "code",
   "execution_count": 1,
   "metadata": {},
   "outputs": [],
   "source": [
    "def get_kmeans_pp_centroids(X1,k = 5):\n",
    "    centroids = X1.sample()\n",
    "    print(centroids)\n",
    "    i = 1\n",
    "    dist = []\n",
    "    while i != k:\n",
    "        max_dist = [0,0]\n",
    "        #go through the centroids\n",
    "        for index, row in centroids.iterrows():\n",
    "            #calculate distance of every centroid with every other data point \n",
    "            d = np.sqrt((X1[\"Height\"] - row[\"Height\"])**2 +(X1[\"Weight\"] - row[\"Weight\"])**2)\n",
    "            #check which centroid has a max distance with another point\n",
    "            if max(d) > max(max_dist):\n",
    "                max_dist = d\n",
    "\n",
    "        X1 = pd.concat([X1, max_dist], axis = 1)\n",
    "        idx = X1.iloc[:,i+1].idxmax()\n",
    "        max_coor = pd.DataFrame(X1.iloc[idx][[\"Height\", \"Weight\"]]).T\n",
    "        centroids = pd.concat([centroids,max_coor])\n",
    "        X1 = X1.drop(idx)\n",
    "        i+=1\n",
    "    return centroids"
   ]
  },
  {
   "cell_type": "code",
   "execution_count": 4,
   "metadata": {},
   "outputs": [],
   "source": [
    "\n",
    "import numpy as np\n",
    "import random\n",
    "def load_data(data_num, k,dt):\n",
    "    # Load data\n",
    "    x = []  # data\n",
    "\n",
    "    np.random.seed(0)\n",
    "    for i in range(k):\n",
    "        x.extend(np.random.normal(loc=[i*dt,i*dt], scale=0.5, size=(data_num, 2)).tolist()) # *2.5 데이터 거리 구분 위함 \n",
    "        if i == 0:\n",
    "            real_answer = [0] * data_num\n",
    "        else:\n",
    "            real_answer.extend([i]*data_num)\n",
    "    \n",
    "    x = np.array(x)\n",
    "    #sns.scatterplot(x=x[:,0], y=x[:,1]) #기존 그래프 그리기\n",
    "\n",
    "    return x, real_answer\n",
    "\n",
    "x, real_answer = load_data(100, 3,0)"
   ]
  },
  {
   "cell_type": "code",
   "execution_count": 5,
   "metadata": {},
   "outputs": [
    {
     "data": {
      "text/plain": [
       "array([[ 0.88202617,  0.2000786 ],\n",
       "       [ 0.48936899,  1.1204466 ],\n",
       "       [ 0.933779  , -0.48863894],\n",
       "       [ 0.47504421, -0.0756786 ],\n",
       "       [-0.05160943,  0.20529925],\n",
       "       [ 0.07202179,  0.72713675],\n",
       "       [ 0.38051886,  0.06083751],\n",
       "       [ 0.22193162,  0.16683716],\n",
       "       [ 0.74703954, -0.10257913],\n",
       "       [ 0.15653385, -0.42704787],\n",
       "       [-1.27649491,  0.3268093 ],\n",
       "       [ 0.4322181 , -0.37108251],\n",
       "       [ 1.13487731, -0.72718284],\n",
       "       [ 0.02287926, -0.09359193],\n",
       "       [ 0.76638961,  0.73467938],\n",
       "       [ 0.07747371,  0.18908126],\n",
       "       [-0.44389287, -0.99039823],\n",
       "       [-0.17395607,  0.07817448],\n",
       "       [ 0.61514534,  0.60118992],\n",
       "       [-0.19366341, -0.15115138],\n",
       "       [-0.52427648, -0.71000897],\n",
       "       [-0.8531351 ,  0.9753877 ],\n",
       "       [-0.25482609, -0.21903715],\n",
       "       [-0.62639768,  0.38874518],\n",
       "       [-0.80694892, -0.10637014],\n",
       "       [-0.44773328,  0.19345125],\n",
       "       [-0.25540257, -0.59031609],\n",
       "       [-0.01409111,  0.21416594],\n",
       "       [ 0.03325861,  0.15123595],\n",
       "       [-0.31716105, -0.18137058],\n",
       "       [-0.33623022, -0.17977658],\n",
       "       [-0.40657314, -0.8631413 ],\n",
       "       [ 0.08871307, -0.20089047],\n",
       "       [-0.81509917,  0.23139113],\n",
       "       [-0.45364918,  0.0259727 ],\n",
       "       [ 0.36454528,  0.06449146],\n",
       "       [ 0.56970034, -0.61741291],\n",
       "       [ 0.20117082, -0.34240505],\n",
       "       [-0.43539857, -0.28942483],\n",
       "       [-0.15577627,  0.02808267],\n",
       "       [-0.58257492,  0.45041324],\n",
       "       [ 0.23283122, -0.76812184],\n",
       "       [ 0.7441261 ,  0.94794459],\n",
       "       [ 0.58938979, -0.08996242],\n",
       "       [-0.53537631,  0.52722586],\n",
       "       [-0.20158847,  0.61122254],\n",
       "       [ 0.10413749,  0.48831952],\n",
       "       [ 0.1781832 ,  0.35328658],\n",
       "       [ 0.00525001,  0.89293525],\n",
       "       [ 0.06345605,  0.20099468],\n",
       "       [ 0.94157535, -0.67387953],\n",
       "       [-0.6352425 ,  0.48469835],\n",
       "       [-0.5865617 ,  0.97181059],\n",
       "       [-0.20680949, -0.37372741],\n",
       "       [ 0.96147101,  0.7402574 ],\n",
       "       [ 0.93377948,  0.45302233],\n",
       "       [-0.43061284,  0.95503248],\n",
       "       [-0.13400169,  0.4012282 ],\n",
       "       [ 0.47362598, -0.07750505],\n",
       "       [ 0.30703969,  0.46110334],\n",
       "       [ 0.18821277, -0.5497004 ],\n",
       "       [ 0.14911909,  0.66319295],\n",
       "       [-0.34728393, -0.07481727],\n",
       "       [-0.21757678,  0.92463186],\n",
       "       [ 0.33614738,  0.20373092],\n",
       "       [-0.38495804,  0.2696246 ],\n",
       "       [-0.33716633,  0.01591528],\n",
       "       [-0.31792304,  0.33821665],\n",
       "       [ 0.28829541, -0.10414938],\n",
       "       [ 0.19800336, -0.54653075],\n",
       "       [-0.7456288 ,  0.21969585],\n",
       "       [ 0.08333675,  0.31751572],\n",
       "       [ 1.19157239,  0.47223974],\n",
       "       [-0.45641111,  0.55850814],\n",
       "       [-0.65795371, -0.2307923 ],\n",
       "       [-0.0341208 ,  0.85667136],\n",
       "       [-0.37237741, -0.41321927],\n",
       "       [-0.04922626, -0.33173914],\n",
       "       [ 0.56331796, -0.53996575],\n",
       "       [-0.57373433, -0.21891002],\n",
       "       [-0.24901623,  0.96476603],\n",
       "       [ 0.4747104 ,  0.04377562],\n",
       "       [-0.61271776,  0.42218149],\n",
       "       [-0.50010767, -0.77238555],\n",
       "       [ 0.5940149 ,  0.15847131],\n",
       "       [ 0.46042941,  0.15936383],\n",
       "       [ 0.42841531, -0.3255128 ],\n",
       "       [-0.51712142,  0.34079726],\n",
       "       [-0.40170483, -0.34477489],\n",
       "       [-0.22776625,  0.00873958],\n",
       "       [-0.17699696, -0.68747565],\n",
       "       [-0.3218092 , -1.11170158],\n",
       "       [ 0.31261573, -0.80102883],\n",
       "       [-0.55219167,  0.02608254],\n",
       "       [-0.3697815 ,  0.7715073 ],\n",
       "       [-0.64642845,  0.13352543],\n",
       "       [-0.01964141, -0.58404675],\n",
       "       [ 0.26163833, -0.08577317],\n",
       "       [ 0.38589528,  0.41175208],\n",
       "       [ 1.08161797,  0.66826397],\n",
       "       [-0.18459092, -0.11968959],\n",
       "       [ 0.5498298 ,  0.32763187],\n",
       "       [ 0.32006576, -0.80847802],\n",
       "       [-0.01216306, -0.36901545],\n",
       "       [ 0.1399623 , -0.04907519],\n",
       "       [ 0.45508945,  0.15860911],\n",
       "       [ 0.39316398, -0.23320955],\n",
       "       [-0.47222313, -0.20502485],\n",
       "       [-0.00851021,  0.18957587],\n",
       "       [ 1.12965448, -0.02112858],\n",
       "       [-0.4779725 , -0.17299089],\n",
       "       [-0.23179799,  0.24074074],\n",
       "       [-0.77039851,  0.031631  ],\n",
       "       [ 0.07825327,  0.11609052],\n",
       "       [-0.29865803, -0.11896086],\n",
       "       [-0.71203045, -0.24665994],\n",
       "       [-0.27143074,  0.20802502],\n",
       "       [-0.57809122,  0.39059905],\n",
       "       [ 0.74724227, -1.03499251],\n",
       "       [ 0.21312937,  0.33845402],\n",
       "       [-0.31871851, -0.19863591],\n",
       "       [-0.06644029, -0.14889544],\n",
       "       [-0.15450648, -0.8380019 ],\n",
       "       [ 0.57616578,  0.5398093 ],\n",
       "       [-0.40668213, -0.73321216],\n",
       "       [ 0.26053244, -0.28789398],\n",
       "       [ 0.07097658, -0.15966421],\n",
       "       [ 0.34576938,  0.34737457],\n",
       "       [-0.36279869, -0.69168198],\n",
       "       [-0.7914692 ,  0.30518969],\n",
       "       [-0.59442963, -0.25340818],\n",
       "       [-0.29815702, -0.02628365],\n",
       "       [-0.9681399 ,  0.0943893 ],\n",
       "       [ 0.26194551,  0.04421104],\n",
       "       [-0.15544309,  0.04870008],\n",
       "       [ 0.19952317, -1.38629638],\n",
       "       [ 0.97795615,  0.19504666],\n",
       "       [-0.32620429, -0.19547669],\n",
       "       [ 0.24687089, -0.05805197],\n",
       "       [-1.01534223,  1.03224643],\n",
       "       [-0.05527033,  0.51008636],\n",
       "       [-0.34602492,  0.76818853],\n",
       "       [ 0.14317184,  0.30442192],\n",
       "       [-0.52262668,  0.60557264],\n",
       "       [ 0.34490908,  0.65092311],\n",
       "       [-0.31404378, -0.24051356],\n",
       "       [ 1.15195835, -0.53000791],\n",
       "       [-0.06797485,  0.56844568],\n",
       "       [ 0.04886248,  0.29147684],\n",
       "       [-0.19972451,  0.18502794],\n",
       "       [-0.65326343,  0.82906534],\n",
       "       [-0.05908202, -0.3400891 ],\n",
       "       [ 0.33319154, -0.23035989],\n",
       "       [-0.66712924, -0.67335875],\n",
       "       [ 0.34688658, -0.07978672],\n",
       "       [-0.06685078,  0.5388719 ],\n",
       "       [-0.5634129 , -0.36533888],\n",
       "       [-0.1924399 ,  0.04717579],\n",
       "       [-0.02108573, -0.1434436 ],\n",
       "       [-0.0308132 , -0.05365264],\n",
       "       [-0.35980219, -0.40649649],\n",
       "       [ 0.13725818, -0.44545754],\n",
       "       [-0.57867763, -0.15614613],\n",
       "       [-0.07883351,  1.12836175],\n",
       "       [-0.35235014,  0.47163036],\n",
       "       [ 0.37359417, -0.59447248],\n",
       "       [ 0.38662649, -0.59194032],\n",
       "       [-1.32958612,  0.30315976],\n",
       "       [-0.87794529,  0.22546723],\n",
       "       [-0.34200545,  0.8297754 ],\n",
       "       [ 0.5342547 , -0.2266929 ],\n",
       "       [-0.34391881, -0.6070387 ],\n",
       "       [-0.22046132, -0.14017775],\n",
       "       [-0.18234677,  0.07835193],\n",
       "       [ 0.28926075,  0.17482723],\n",
       "       [-0.38207196, -0.71889574],\n",
       "       [ 0.68226592, -0.34472459],\n",
       "       [-0.3261468 , -0.26059466],\n",
       "       [-0.92153478, -0.238987  ],\n",
       "       [-0.23982791,  0.31017915],\n",
       "       [ 0.34922857,  0.00188544],\n",
       "       [ 0.46592419,  0.16998249],\n",
       "       [-0.00784106,  0.08046408],\n",
       "       [-0.09532675, -0.19742476],\n",
       "       [-0.13386677, -0.56400567],\n",
       "       [ 0.14022085, -0.49656181],\n",
       "       [ 0.42081563, -0.12472929],\n",
       "       [ 0.02474749,  0.24691839],\n",
       "       [ 0.32165723, -0.7853117 ],\n",
       "       [-0.10345184,  0.44008946],\n",
       "       [-0.84905291,  0.19364024],\n",
       "       [-1.12778211, -0.51125342],\n",
       "       [ 0.01931528, -0.82835755],\n",
       "       [-0.49275537, -0.7359175 ],\n",
       "       [ 0.82406747,  0.08211388],\n",
       "       [ 0.28364514, -0.11133755],\n",
       "       [-0.17671587, -0.80823709],\n",
       "       [-0.14591868, -0.38074611],\n",
       "       [ 0.42896196,  0.57055093],\n",
       "       [ 0.73328936,  0.42627597],\n",
       "       [-0.29932697, -0.55794849],\n",
       "       [ 0.38333159,  0.17814641],\n",
       "       [-0.88426923,  0.1777409 ],\n",
       "       [ 0.40725991,  0.02946279],\n",
       "       [-0.09252684, -0.40382424],\n",
       "       [-0.72326735,  0.40014897],\n",
       "       [-0.15455722, -0.11673333],\n",
       "       [ 0.86636059,  0.34225055],\n",
       "       [ 0.1854125 ,  0.0710309 ],\n",
       "       [ 0.75999743,  0.85979465],\n",
       "       [ 0.46475256,  0.2911123 ],\n",
       "       [-1.04730154,  0.06186096],\n",
       "       [-0.06505348,  0.04697661],\n",
       "       [ 0.47152304, -1.36983858],\n",
       "       [-0.28465603,  0.13495218],\n",
       "       [-0.23342277, -0.70845306],\n",
       "       [ 0.43448174,  0.13843595],\n",
       "       [-0.48555229,  0.1574086 ],\n",
       "       [ 0.41079286,  0.00264632],\n",
       "       [ 0.4002824 ,  0.03913009],\n",
       "       [-0.19761449, -0.57971026],\n",
       "       [-0.04296538,  0.09714647],\n",
       "       [ 0.43791638, -0.05755373],\n",
       "       [ 0.2287078 , -0.48230601],\n",
       "       [-0.39131458, -0.05519465],\n",
       "       [-0.52731423,  0.41012392],\n",
       "       [ 0.23156516,  0.13954788],\n",
       "       [ 0.16945206,  1.01052178],\n",
       "       [-0.23443209, -1.10072064],\n",
       "       [ 0.0996501 , -0.02530177],\n",
       "       [-0.25875952, -0.48941493],\n",
       "       [-0.21959476,  0.09066921],\n",
       "       [-0.25140835,  1.20622684],\n",
       "       [-0.48025219, -0.39655868],\n",
       "       [-1.14431002,  0.12574221],\n",
       "       [-1.00820331, -0.26972732],\n",
       "       [-0.13783527, -0.35486398],\n",
       "       [ 0.86943634,  0.4971972 ],\n",
       "       [ 0.65956844, -0.44120941],\n",
       "       [ 0.56429703,  0.24800047],\n",
       "       [ 0.38570297,  0.51471941],\n",
       "       [-0.45438162, -0.21215881],\n",
       "       [ 0.43129801, -1.32780955],\n",
       "       [ 0.75666404,  0.27656603],\n",
       "       [-0.02285198,  0.11025383],\n",
       "       [-0.51496764, -0.17497168],\n",
       "       [ 0.55014217,  0.64901099],\n",
       "       [ 1.34811203, -0.03696233],\n",
       "       [-0.32927648, -0.25711698],\n",
       "       [-0.50902094, -0.03892738],\n",
       "       [ 0.19136622, -0.01712114],\n",
       "       [ 0.54817342, -0.1171079 ],\n",
       "       [-0.17372533, -0.29063424],\n",
       "       [-0.81631726, -0.78388386],\n",
       "       [-0.58957897,  0.65071404],\n",
       "       [ 0.44763014,  0.68748203],\n",
       "       [-0.66610583, -0.98431234],\n",
       "       [-0.33002816,  0.08790948],\n",
       "       [ 0.24934514,  0.52398608],\n",
       "       [ 0.14213984,  0.87133439],\n",
       "       [-0.11130284, -0.45653961],\n",
       "       [-0.84060911, -0.44448568],\n",
       "       [ 0.12105898, -0.44436013],\n",
       "       [ 0.46837123,  0.70616385],\n",
       "       [-1.18479345,  0.43202615],\n",
       "       [-1.11980203,  0.20074953],\n",
       "       [ 0.61243528,  0.03242805],\n",
       "       [-0.63984459, -0.2927156 ],\n",
       "       [-0.13082272, -0.09112239],\n",
       "       [-0.10144842, -0.05494139],\n",
       "       [ 0.10674002, -0.60428683],\n",
       "       [-0.12100991,  0.75913059],\n",
       "       [-0.19232271, -0.22191805],\n",
       "       [ 0.53909865, -1.27959233],\n",
       "       [ 0.5906893 , -0.31595188],\n",
       "       [ 0.08196429,  0.04816068],\n",
       "       [ 0.47123406, -0.13379737],\n",
       "       [-0.33901289,  0.6489229 ],\n",
       "       [-1.18208691,  0.01016709],\n",
       "       [-0.67396271, -0.38078669],\n",
       "       [ 1.00562834, -0.02229771],\n",
       "       [ 0.09753485, -0.89078143],\n",
       "       [-0.36452233,  0.0982787 ],\n",
       "       [ 0.17737885,  0.30844328],\n",
       "       [ 0.00431395,  0.2635021 ],\n",
       "       [ 0.22689096, -0.91487021],\n",
       "       [ 0.01850286,  0.3839512 ],\n",
       "       [ 0.29493991, -0.1819294 ],\n",
       "       [-0.40281325, -0.55915596],\n",
       "       [-0.06552701,  0.56653994],\n",
       "       [-0.97590205, -0.32994586],\n",
       "       [-0.56990123,  0.39247876],\n",
       "       [-0.27715481, -0.23531883],\n",
       "       [-0.10847478,  0.22269663],\n",
       "       [-0.1961945 , -1.52307153],\n",
       "       [ 0.27165595,  0.21952148],\n",
       "       [-0.10977051, -0.54201831],\n",
       "       [ 0.17589006,  0.18961777],\n",
       "       [-0.23501644, -0.10836574],\n",
       "       [-0.46507825, -0.08929455]])"
      ]
     },
     "execution_count": 5,
     "metadata": {},
     "output_type": "execute_result"
    }
   ],
   "source": [
    "x"
   ]
  }
 ],
 "metadata": {
  "interpreter": {
   "hash": "46c0909a13c8f15bb24c49cd4e44ffb2b0942cd9a631d5f7d6780da769a76706"
  },
  "kernelspec": {
   "display_name": "Python 3.8.3 64-bit ('base': conda)",
   "name": "python3"
  },
  "language_info": {
   "codemirror_mode": {
    "name": "ipython",
    "version": 3
   },
   "file_extension": ".py",
   "mimetype": "text/x-python",
   "name": "python",
   "nbconvert_exporter": "python",
   "pygments_lexer": "ipython3",
   "version": "3.8.3"
  },
  "orig_nbformat": 4
 },
 "nbformat": 4,
 "nbformat_minor": 2
}
